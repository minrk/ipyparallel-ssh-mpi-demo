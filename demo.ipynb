{
 "cells": [
  {
   "cell_type": "code",
   "execution_count": 1,
   "id": "a9e9e46b-02b0-4e6e-abf3-3498535a50c3",
   "metadata": {
    "tags": []
   },
   "outputs": [
    {
     "name": "stdout",
     "output_type": "stream",
     "text": [
      "Running `/opt/conda/bin/python3 -m ipyparallel.controller '--ip=*'`\n",
      "fetching /home/demo/.ipython/profile_remotempi/security/ipcontroller-1680001185-84l2-client.json from remote:.ipython/profile_remotempi/security/ipcontroller-1680001185-84l2-client.json\n",
      "fetching /home/demo/.ipython/profile_remotempi/security/ipcontroller-1680001185-84l2-engine.json from remote:.ipython/profile_remotempi/security/ipcontroller-1680001185-84l2-engine.json\n",
      "Starting 4 engines with <class 'ipyparallel.cluster.launcher.SSHProxyEngineSetLauncher'>\n",
      "ensuring remote remote:.ipython/profile_remotempi/security/ exists\n",
      "sending /home/demo/.ipython/profile_remotempi/security/ipcontroller-1680001185-84l2-client.json to remote:.ipython/profile_remotempi/security/ipcontroller-1680001185-84l2-client.json\n",
      "ensuring remote remote:.ipython/profile_remotempi/security/ exists\n",
      "sending /home/demo/.ipython/profile_remotempi/security/ipcontroller-1680001185-84l2-engine.json to remote:.ipython/profile_remotempi/security/ipcontroller-1680001185-84l2-engine.json\n",
      "Running `/opt/conda/bin/python3 -m ipyparallel.cluster engines -n 4 --profile-dir .ipython/profile_remotempi --cluster-id 1680001185-84l2`\n",
      "100%|██████████| 4/4 [00:05<00:00,  1.41s/engine]\n"
     ]
    }
   ],
   "source": [
    "import ipyparallel as ipp\n",
    "cluster = ipp.Cluster(profile=\"remotempi\")\n",
    "rc = cluster.start_and_connect_sync()"
   ]
  },
  {
   "cell_type": "code",
   "execution_count": 2,
   "id": "ac6d8d08-c022-4102-836b-2b788aeff30c",
   "metadata": {
    "tags": []
   },
   "outputs": [
    {
     "data": {
      "text/plain": [
       "[0, 1, 2, 3]"
      ]
     },
     "execution_count": 2,
     "metadata": {},
     "output_type": "execute_result"
    }
   ],
   "source": [
    "rc.ids"
   ]
  },
  {
   "cell_type": "code",
   "execution_count": 3,
   "id": "a7436693-69de-4761-afd2-91914b356c2f",
   "metadata": {
    "tags": []
   },
   "outputs": [
    {
     "data": {
      "text/plain": [
       "'local'"
      ]
     },
     "execution_count": 3,
     "metadata": {},
     "output_type": "execute_result"
    }
   ],
   "source": [
    "import socket\n",
    "socket.gethostname()"
   ]
  },
  {
   "cell_type": "code",
   "execution_count": 5,
   "id": "dda7b2dc-eb34-40f7-9f4a-7c0e31a55cc0",
   "metadata": {
    "tags": []
   },
   "outputs": [
    {
     "data": {
      "text/plain": [
       "{0: 'remote', 1: 'remote', 2: 'remote', 3: 'remote'}"
      ]
     },
     "execution_count": 5,
     "metadata": {},
     "output_type": "execute_result"
    }
   ],
   "source": [
    "rc[:].apply_async(socket.gethostname).get_dict()"
   ]
  },
  {
   "cell_type": "code",
   "execution_count": 6,
   "id": "05e0934b-2500-4c9d-89e5-d72eb13f6739",
   "metadata": {
    "tags": []
   },
   "outputs": [
    {
     "data": {
      "text/plain": [
       "\u001b[0;31mOut[1:1]: \u001b[0m'remote'"
      ]
     },
     "metadata": {
      "after": null,
      "completed": null,
      "data": {},
      "engine_id": 1,
      "engine_uuid": "b33209e3-ba317ac7e3a406d504cf6f03",
      "error": null,
      "execute_input": "import socket\nsocket.gethostname()\n",
      "execute_result": {
       "data": {
        "text/plain": "'remote'"
       },
       "execution_count": 1,
       "metadata": {}
      },
      "follow": null,
      "msg_id": null,
      "outputs": [],
      "received": null,
      "started": null,
      "status": null,
      "stderr": "",
      "stdout": "",
      "submitted": "2023-03-28T11:00:42.068847Z"
     },
     "output_type": "display_data"
    },
    {
     "data": {
      "text/plain": [
       "\u001b[0;31mOut[3:1]: \u001b[0m'remote'"
      ]
     },
     "metadata": {
      "after": null,
      "completed": null,
      "data": {},
      "engine_id": 3,
      "engine_uuid": "3259dca7-df80180d87d7775fc2b98498",
      "error": null,
      "execute_input": "import socket\nsocket.gethostname()\n",
      "execute_result": {
       "data": {
        "text/plain": "'remote'"
       },
       "execution_count": 1,
       "metadata": {}
      },
      "follow": null,
      "msg_id": null,
      "outputs": [],
      "received": null,
      "started": null,
      "status": null,
      "stderr": "",
      "stdout": "",
      "submitted": "2023-03-28T11:00:42.070746Z"
     },
     "output_type": "display_data"
    },
    {
     "data": {
      "text/plain": [
       "\u001b[0;31mOut[2:1]: \u001b[0m'remote'"
      ]
     },
     "metadata": {
      "after": null,
      "completed": null,
      "data": {},
      "engine_id": 2,
      "engine_uuid": "ebb445fa-02313bc21c2f4278517ad431",
      "error": null,
      "execute_input": "import socket\nsocket.gethostname()\n",
      "execute_result": {
       "data": {
        "text/plain": "'remote'"
       },
       "execution_count": 1,
       "metadata": {}
      },
      "follow": null,
      "msg_id": null,
      "outputs": [],
      "received": null,
      "started": null,
      "status": null,
      "stderr": "",
      "stdout": "",
      "submitted": "2023-03-28T11:00:42.070649Z"
     },
     "output_type": "display_data"
    },
    {
     "data": {
      "text/plain": [
       "\u001b[0;31mOut[0:1]: \u001b[0m'remote'"
      ]
     },
     "metadata": {
      "after": null,
      "completed": null,
      "data": {},
      "engine_id": 0,
      "engine_uuid": "aae30515-a0c795d05206438d5d4753b6",
      "error": null,
      "execute_input": "import socket\nsocket.gethostname()\n",
      "execute_result": {
       "data": {
        "text/plain": "'remote'"
       },
       "execution_count": 1,
       "metadata": {}
      },
      "follow": null,
      "msg_id": null,
      "outputs": [],
      "received": null,
      "started": null,
      "status": null,
      "stderr": "",
      "stdout": "",
      "submitted": "2023-03-28T11:00:42.068487Z"
     },
     "output_type": "display_data"
    }
   ],
   "source": [
    "%%px\n",
    "import socket\n",
    "socket.gethostname()"
   ]
  },
  {
   "cell_type": "code",
   "execution_count": 7,
   "id": "d5952bda-18ba-4137-953c-7e4c97b2b446",
   "metadata": {
    "tags": []
   },
   "outputs": [
    {
     "data": {
      "text/plain": [
       "\u001b[0;31mOut[3:2]: \u001b[0m3"
      ]
     },
     "metadata": {
      "after": null,
      "completed": null,
      "data": {},
      "engine_id": 3,
      "engine_uuid": "3259dca7-df80180d87d7775fc2b98498",
      "error": null,
      "execute_input": "from mpi4py import MPI\nMPI.COMM_WORLD.rank\n",
      "execute_result": {
       "data": {
        "text/plain": "3"
       },
       "execution_count": 2,
       "metadata": {}
      },
      "follow": null,
      "msg_id": null,
      "outputs": [],
      "received": null,
      "started": null,
      "status": null,
      "stderr": "",
      "stdout": "",
      "submitted": "2023-03-28T11:00:58.982136Z"
     },
     "output_type": "display_data"
    },
    {
     "data": {
      "text/plain": [
       "\u001b[0;31mOut[2:2]: \u001b[0m2"
      ]
     },
     "metadata": {
      "after": null,
      "completed": null,
      "data": {},
      "engine_id": 2,
      "engine_uuid": "ebb445fa-02313bc21c2f4278517ad431",
      "error": null,
      "execute_input": "from mpi4py import MPI\nMPI.COMM_WORLD.rank\n",
      "execute_result": {
       "data": {
        "text/plain": "2"
       },
       "execution_count": 2,
       "metadata": {}
      },
      "follow": null,
      "msg_id": null,
      "outputs": [],
      "received": null,
      "started": null,
      "status": null,
      "stderr": "",
      "stdout": "",
      "submitted": "2023-03-28T11:00:58.981456Z"
     },
     "output_type": "display_data"
    },
    {
     "data": {
      "text/plain": [
       "\u001b[0;31mOut[0:2]: \u001b[0m0"
      ]
     },
     "metadata": {
      "after": [],
      "completed": "2023-03-28T11:00:58.996919Z",
      "data": {},
      "engine_id": 0,
      "engine_uuid": "aae30515-a0c795d05206438d5d4753b6",
      "error": null,
      "execute_input": "from mpi4py import MPI\nMPI.COMM_WORLD.rank\n",
      "execute_result": {
       "data": {
        "text/plain": "0"
       },
       "execution_count": 2,
       "metadata": {}
      },
      "follow": [],
      "is_broadcast": false,
      "is_coalescing": false,
      "msg_id": "635c83d4-3bc54f1777b63d0e8b3468ca_395_9",
      "outputs": [],
      "received": "2023-03-28T11:00:59.001134Z",
      "started": "2023-03-28T11:00:58.993862Z",
      "status": "ok",
      "stderr": "",
      "stdout": "",
      "submitted": "2023-03-28T11:00:58.980283Z"
     },
     "output_type": "display_data"
    },
    {
     "data": {
      "text/plain": [
       "\u001b[0;31mOut[1:2]: \u001b[0m1"
      ]
     },
     "metadata": {
      "after": [],
      "completed": "2023-03-28T11:00:59.000576Z",
      "data": {},
      "engine_id": 1,
      "engine_uuid": "b33209e3-ba317ac7e3a406d504cf6f03",
      "error": null,
      "execute_input": "from mpi4py import MPI\nMPI.COMM_WORLD.rank\n",
      "execute_result": {
       "data": {
        "text/plain": "1"
       },
       "execution_count": 2,
       "metadata": {}
      },
      "follow": [],
      "is_broadcast": false,
      "is_coalescing": false,
      "msg_id": "635c83d4-3bc54f1777b63d0e8b3468ca_395_10",
      "outputs": [],
      "received": "2023-03-28T11:00:59.003752Z",
      "started": "2023-03-28T11:00:58.997818Z",
      "status": "ok",
      "stderr": "",
      "stdout": "",
      "submitted": "2023-03-28T11:00:58.981040Z"
     },
     "output_type": "display_data"
    }
   ],
   "source": [
    "%%px\n",
    "from mpi4py import MPI\n",
    "MPI.COMM_WORLD.rank"
   ]
  }
 ],
 "metadata": {
  "kernelspec": {
   "display_name": "Python 3 (ipykernel)",
   "language": "python",
   "name": "python3"
  },
  "language_info": {
   "codemirror_mode": {
    "name": "ipython",
    "version": 3
   },
   "file_extension": ".py",
   "mimetype": "text/x-python",
   "name": "python",
   "nbconvert_exporter": "python",
   "pygments_lexer": "ipython3",
   "version": "3.10.9"
  }
 },
 "nbformat": 4,
 "nbformat_minor": 5
}
